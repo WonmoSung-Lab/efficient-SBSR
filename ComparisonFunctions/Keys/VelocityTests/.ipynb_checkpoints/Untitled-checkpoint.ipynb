{
 "cells": [
  {
   "cell_type": "code",
   "execution_count": 1,
   "id": "fd07af53-3008-4d40-8154-dcda944afb9b",
   "metadata": {},
   "outputs": [],
   "source": [
    "import numpy as np\n",
    "\n",
    "input_file = 'particle_Test_0.5_z.placement'\n",
    "\n",
    "with open(input_file, 'r') as file:\n",
    "    lines = file.readlines()\n",
    "\n",
    "lines = lines[8:]"
   ]
  },
  {
   "cell_type": "code",
   "execution_count": 2,
   "id": "febb85b7-1c20-4c64-82b1-a5fa50e3ea46",
   "metadata": {},
   "outputs": [
    {
     "name": "stdout",
     "output_type": "stream",
     "text": [
      "Saved: formatted/particle_Test_1_z.placement\n",
      "Saved: formatted/particle_Test_2_z.placement\n",
      "Saved: formatted/particle_Test_4_z.placement\n",
      "Saved: formatted/particle_Test_8_z.placement\n",
      "Saved: formatted/particle_Test_16_z.placement\n",
      "Saved: formatted/particle_Test_32_z.placement\n",
      "Saved: formatted/particle_Test_64_z.placement\n",
      "Saved: formatted/particle_Test_128_z.placement\n",
      "Saved: formatted/particle_Test_256_z.placement\n",
      "Saved: formatted/particle_Test_512_z.placement\n"
     ]
    }
   ],
   "source": [
    "for i in range(10):\n",
    "    output_file = f'formatted/particle_Test_{str(2 ** i)}_z.placement'\n",
    "    new_lines = []\n",
    "    for line in lines:\n",
    "        parts = line.split()\n",
    "        if len(parts) == 8 and parts[0].replace('.', '', 1).isdigit():\n",
    "            parts[0] = str(float(parts[0]) / (2 ** (i+1)))\n",
    "            new_line = ' '.join(parts)\n",
    "        else:\n",
    "            print(\"Error, non data line detected in \" + str(i))\n",
    "        new_lines.append(new_line)\n",
    "    \n",
    "    with open(output_file, 'w') as file:\n",
    "        file.write('\\n'.join(new_lines))\n",
    "\n",
    "    print(\"Saved: \" + output_file)"
   ]
  },
  {
   "cell_type": "code",
   "execution_count": null,
   "id": "d9b73d11-208a-4132-8ae2-6df020be3577",
   "metadata": {},
   "outputs": [],
   "source": []
  }
 ],
 "metadata": {
  "kernelspec": {
   "display_name": "Python 3 (ipykernel)",
   "language": "python",
   "name": "python3"
  },
  "language_info": {
   "codemirror_mode": {
    "name": "ipython",
    "version": 3
   },
   "file_extension": ".py",
   "mimetype": "text/x-python",
   "name": "python",
   "nbconvert_exporter": "python",
   "pygments_lexer": "ipython3",
   "version": "3.10.11"
  }
 },
 "nbformat": 4,
 "nbformat_minor": 5
}
